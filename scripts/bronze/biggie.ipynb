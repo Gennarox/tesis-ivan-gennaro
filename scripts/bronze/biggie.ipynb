{
 "cells": [
  {
   "cell_type": "code",
   "execution_count": 49,
   "id": "1e95a63b",
   "metadata": {},
   "outputs": [],
   "source": [
    "import curl_cffi\n",
    "from curl_cffi import requests\n",
    "import json\n",
    "import pandas as pd\n",
    "import numpy as np\n",
    "import requests\n",
    "import scraper_functions\n",
    "from scraper_functions import VPNTester, ScraperClient\n",
    "import openpyxl\n",
    "import pydantic_model\n",
    "from pydantic_model import categories, products\n",
    "import pydantic\n",
    "from pydantic import ValidationError\n",
    "\n",
    "import random\n",
    "from datetime import datetime\n",
    "from zoneinfo import ZoneInfo\n",
    "from pathlib import Path"
   ]
  },
  {
   "cell_type": "markdown",
   "id": "46ba2e0f",
   "metadata": {},
   "source": [
    "##### VPN Checker"
   ]
  },
  {
   "cell_type": "code",
   "execution_count": 50,
   "id": "150a6dd4",
   "metadata": {},
   "outputs": [
    {
     "name": "stdout",
     "output_type": "stream",
     "text": [
      "[🛡️  VPN Check] Your current IP: 185.239.150.6\n"
     ]
    }
   ],
   "source": [
    "tester = VPNTester()\n",
    "tester.vpn_check()"
   ]
  },
  {
   "cell_type": "markdown",
   "id": "2de73aa9",
   "metadata": {},
   "source": [
    "##### Fixing impersonate agent for the session"
   ]
  },
  {
   "cell_type": "code",
   "execution_count": 51,
   "id": "b3232320",
   "metadata": {},
   "outputs": [
    {
     "name": "stdout",
     "output_type": "stream",
     "text": [
      "safari172_ios\n"
     ]
    }
   ],
   "source": [
    "FIXED_IMPERSONATE = random.choice(scraper_functions.IMPERSONATE_OPTIONS)\n",
    "print(FIXED_IMPERSONATE)"
   ]
  },
  {
   "cell_type": "markdown",
   "id": "ff2881b2",
   "metadata": {},
   "source": [
    "## Product Categories"
   ]
  },
  {
   "cell_type": "markdown",
   "id": "9f2d7529",
   "metadata": {},
   "source": [
    "##### Get json"
   ]
  },
  {
   "cell_type": "code",
   "execution_count": 52,
   "id": "44691afd",
   "metadata": {},
   "outputs": [
    {
     "name": "stdout",
     "output_type": "stream",
     "text": [
      "[⏱️] Waiting 5.50s to simulate human behavior...\n",
      "[🎭 Impersonation] Using: safari172_ios\n"
     ]
    }
   ],
   "source": [
    "url = \"https://api.app.biggie.com.py/api/classifications/web?take=-1&storeType=\"\n",
    "\n",
    "scraper = ScraperClient(\n",
    "    url, \n",
    "    random_wait = True, \n",
    "    impersonate = FIXED_IMPERSONATE\n",
    ")\n",
    "\n",
    "json_response = scraper.get_json()"
   ]
  },
  {
   "cell_type": "markdown",
   "id": "bdf533b8",
   "metadata": {},
   "source": [
    "##### Saving raw json file"
   ]
  },
  {
   "cell_type": "code",
   "execution_count": 53,
   "id": "b2240723",
   "metadata": {},
   "outputs": [
    {
     "name": "stdout",
     "output_type": "stream",
     "text": [
      "[💾] Archivo guardado en: /workspaces/proyecto-tesis/outputs/biggie/categories/biggie_categories_2025-07-17_20-14-59.json\n"
     ]
    }
   ],
   "source": [
    "ScraperClient.save_json_raw(\n",
    "    json_response.get(\"items\", []), \n",
    "    supermarket=\"biggie\", \n",
    "    subfolder=f'/workspaces/proyecto-tesis/outputs/biggie/categories', \n",
    "    name='categories'\n",
    ")"
   ]
  },
  {
   "cell_type": "markdown",
   "id": "78df9770",
   "metadata": {},
   "source": [
    "##### Parse JSON to Model"
   ]
  },
  {
   "cell_type": "code",
   "execution_count": 54,
   "id": "2f22b567",
   "metadata": {},
   "outputs": [],
   "source": [
    "if json_response :\n",
    "    categories_model = ScraperClient.parse_json_to_model(\n",
    "        json_data = json_response, \n",
    "        model_class = categories, \n",
    "        supermarket = 'biggie'\n",
    "    )"
   ]
  },
  {
   "cell_type": "markdown",
   "id": "04cef022",
   "metadata": {},
   "source": [
    "##### Model -> Dataframe | Validation"
   ]
  },
  {
   "cell_type": "code",
   "execution_count": 55,
   "id": "5cfc8c15",
   "metadata": {},
   "outputs": [
    {
     "data": {
      "text/html": [
       "<div>\n",
       "<style scoped>\n",
       "    .dataframe tbody tr th:only-of-type {\n",
       "        vertical-align: middle;\n",
       "    }\n",
       "\n",
       "    .dataframe tbody tr th {\n",
       "        vertical-align: top;\n",
       "    }\n",
       "\n",
       "    .dataframe thead th {\n",
       "        text-align: right;\n",
       "    }\n",
       "</style>\n",
       "<table border=\"1\" class=\"dataframe\">\n",
       "  <thead>\n",
       "    <tr style=\"text-align: right;\">\n",
       "      <th></th>\n",
       "      <th>id</th>\n",
       "      <th>name</th>\n",
       "      <th>slug</th>\n",
       "      <th>supermarket</th>\n",
       "      <th>ingestion_time</th>\n",
       "    </tr>\n",
       "  </thead>\n",
       "  <tbody>\n",
       "    <tr>\n",
       "      <th>0</th>\n",
       "      <td>6</td>\n",
       "      <td>Alimentos Especiales</td>\n",
       "      <td>alimentos-especiales</td>\n",
       "      <td>biggie</td>\n",
       "      <td>2025-07-17 20:14:59.317960-03:00</td>\n",
       "    </tr>\n",
       "    <tr>\n",
       "      <th>1</th>\n",
       "      <td>1</td>\n",
       "      <td>Almacén</td>\n",
       "      <td>almacen</td>\n",
       "      <td>biggie</td>\n",
       "      <td>2025-07-17 20:14:59.317960-03:00</td>\n",
       "    </tr>\n",
       "    <tr>\n",
       "      <th>2</th>\n",
       "      <td>246</td>\n",
       "      <td>Asado</td>\n",
       "      <td>asado</td>\n",
       "      <td>biggie</td>\n",
       "      <td>2025-07-17 20:14:59.317960-03:00</td>\n",
       "    </tr>\n",
       "    <tr>\n",
       "      <th>3</th>\n",
       "      <td>41</td>\n",
       "      <td>Bebes</td>\n",
       "      <td>bebes</td>\n",
       "      <td>biggie</td>\n",
       "      <td>2025-07-17 20:14:59.317960-03:00</td>\n",
       "    </tr>\n",
       "    <tr>\n",
       "      <th>4</th>\n",
       "      <td>3</td>\n",
       "      <td>Bebidas con Alcohol</td>\n",
       "      <td>bebidas-con-alcohol</td>\n",
       "      <td>biggie</td>\n",
       "      <td>2025-07-17 20:14:59.317960-03:00</td>\n",
       "    </tr>\n",
       "  </tbody>\n",
       "</table>\n",
       "</div>"
      ],
      "text/plain": [
       "    id                                      name                  slug  \\\n",
       "0    6  Alimentos Especiales                      alimentos-especiales   \n",
       "1    1   Almacén                                               almacen   \n",
       "2  246  Asado                                                    asado   \n",
       "3   41  Bebes                                                    bebes   \n",
       "4    3  Bebidas con Alcohol                        bebidas-con-alcohol   \n",
       "\n",
       "  supermarket                   ingestion_time  \n",
       "0      biggie 2025-07-17 20:14:59.317960-03:00  \n",
       "1      biggie 2025-07-17 20:14:59.317960-03:00  \n",
       "2      biggie 2025-07-17 20:14:59.317960-03:00  \n",
       "3      biggie 2025-07-17 20:14:59.317960-03:00  \n",
       "4      biggie 2025-07-17 20:14:59.317960-03:00  "
      ]
     },
     "execution_count": 55,
     "metadata": {},
     "output_type": "execute_result"
    }
   ],
   "source": [
    "df = pd.DataFrame([c.model_dump() for c in categories_model])\n",
    "df.head()"
   ]
  },
  {
   "cell_type": "code",
   "execution_count": 56,
   "id": "006afa8c",
   "metadata": {},
   "outputs": [],
   "source": [
    "df.to_csv('/workspaces/proyecto-tesis/outputs/biggie/categories/biggie_categories_test.csv')"
   ]
  },
  {
   "cell_type": "markdown",
   "id": "eceb3a49",
   "metadata": {},
   "source": [
    "# Product Data"
   ]
  },
  {
   "cell_type": "code",
   "execution_count": 57,
   "id": "d5a01cb6",
   "metadata": {},
   "outputs": [
    {
     "name": "stdout",
     "output_type": "stream",
     "text": [
      "20\n"
     ]
    },
    {
     "data": {
      "text/plain": [
       "array(['alimentos-especiales', 'almacen', 'asado', 'bebes',\n",
       "       'bebidas-con-alcohol', 'bebidas-sin-alcohol', 'carniceria',\n",
       "       'chocolates-y-golosinas', 'congelados', 'fiambreria',\n",
       "       'fruteria-y-verduleria', 'heladeria-y-confiteria',\n",
       "       'higiene-personal', 'lacteos', 'libreria', 'limpieza', 'mascotas',\n",
       "       'panaderia', 'snacks', 'varios'], dtype=object)"
      ]
     },
     "execution_count": 57,
     "metadata": {},
     "output_type": "execute_result"
    }
   ],
   "source": [
    "# Original sorting\n",
    "categories = df[\"slug\"].unique() # [15:-3] subset for testing\n",
    "print(categories.size)\n",
    "categories"
   ]
  },
  {
   "cell_type": "code",
   "execution_count": 58,
   "id": "72e7acaa",
   "metadata": {},
   "outputs": [
    {
     "name": "stdout",
     "output_type": "stream",
     "text": [
      "20\n"
     ]
    },
    {
     "data": {
      "text/plain": [
       "array(['lacteos', 'panaderia', 'limpieza', 'alimentos-especiales',\n",
       "       'almacen', 'bebidas-con-alcohol', 'fruteria-y-verduleria',\n",
       "       'chocolates-y-golosinas', 'snacks', 'varios',\n",
       "       'bebidas-sin-alcohol', 'libreria', 'carniceria', 'asado',\n",
       "       'mascotas', 'heladeria-y-confiteria', 'fiambreria',\n",
       "       'higiene-personal', 'congelados', 'bebes'], dtype=object)"
      ]
     },
     "execution_count": 58,
     "metadata": {},
     "output_type": "execute_result"
    }
   ],
   "source": [
    "# Shuffleled\n",
    "categories = df[\"slug\"].unique() # [15:-3] subset for testing\n",
    "np.random.shuffle(categories)\n",
    "print(categories.size)\n",
    "categories"
   ]
  },
  {
   "cell_type": "markdown",
   "id": "5770869c",
   "metadata": {},
   "source": [
    "#### Get JSON\n",
    "4 min 47s for last three categories //\n",
    "1 min for last category //\n",
    "35 min 11s for full scrap (1st test on 29/06)"
   ]
  },
  {
   "cell_type": "code",
   "execution_count": null,
   "id": "f75dc25a",
   "metadata": {},
   "outputs": [
    {
     "name": "stdout",
     "output_type": "stream",
     "text": [
      "[⏱️] Waiting 3.64s to simulate human behavior...\n",
      "[🎭 Impersonation] Using: safari172_ios\n",
      "[⏱️] Waiting 7.74s to simulate human behavior...\n",
      "[🎭 Impersonation] Using: safari172_ios\n",
      "[⏱️] Waiting 6.02s to simulate human behavior...\n",
      "[🎭 Impersonation] Using: safari172_ios\n",
      "[⏱️] Waiting 9.42s to simulate human behavior...\n",
      "[🎭 Impersonation] Using: safari172_ios\n",
      "[⏱️] Waiting 6.48s to simulate human behavior...\n",
      "[🎭 Impersonation] Using: safari172_ios\n",
      "[⏱️] Waiting 6.99s to simulate human behavior...\n",
      "[🎭 Impersonation] Using: safari172_ios\n",
      "[⏱️] Waiting 4.08s to simulate human behavior...\n",
      "[🎭 Impersonation] Using: safari172_ios\n",
      "[⏱️] Waiting 5.07s to simulate human behavior...\n",
      "[🎭 Impersonation] Using: safari172_ios\n",
      "[⏱️] Waiting 6.43s to simulate human behavior...\n",
      "[🎭 Impersonation] Using: safari172_ios\n",
      "[⏱️] Waiting 2.84s to simulate human behavior...\n",
      "[🎭 Impersonation] Using: safari172_ios\n",
      "[⏱️] Waiting 4.73s to simulate human behavior...\n",
      "[🎭 Impersonation] Using: safari172_ios\n",
      "[⏱️] Waiting 5.72s to simulate human behavior...\n",
      "[🎭 Impersonation] Using: safari172_ios\n",
      "[⏱️] Waiting 4.56s to simulate human behavior...\n",
      "[🎭 Impersonation] Using: safari172_ios\n",
      "[⏱️] Waiting 6.32s to simulate human behavior...\n",
      "[🎭 Impersonation] Using: safari172_ios\n",
      "[⏱️] Waiting 9.77s to simulate human behavior...\n",
      "[🎭 Impersonation] Using: safari172_ios\n",
      "[⏱️] Waiting 9.80s to simulate human behavior...\n",
      "[🎭 Impersonation] Using: safari172_ios\n",
      "[⏱️] Waiting 5.59s to simulate human behavior...\n",
      "[🎭 Impersonation] Using: safari172_ios\n",
      "[⏱️] Waiting 7.10s to simulate human behavior...\n",
      "[🎭 Impersonation] Using: safari172_ios\n",
      "[⏱️] Waiting 6.62s to simulate human behavior...\n",
      "[🎭 Impersonation] Using: safari172_ios\n",
      "[⏱️] Waiting 4.20s to simulate human behavior...\n",
      "[🎭 Impersonation] Using: safari172_ios\n",
      "[⏱️] Waiting 9.15s to simulate human behavior...\n",
      "[🎭 Impersonation] Using: safari172_ios\n",
      "[⏱️] Waiting 6.98s to simulate human behavior...\n",
      "[🎭 Impersonation] Using: safari172_ios\n",
      "[⏱️] Waiting 3.28s to simulate human behavior...\n",
      "[🎭 Impersonation] Using: safari172_ios\n",
      "[⏱️] Waiting 9.64s to simulate human behavior...\n",
      "[🎭 Impersonation] Using: safari172_ios\n",
      "[⏱️] Waiting 2.93s to simulate human behavior...\n",
      "[🎭 Impersonation] Using: safari172_ios\n",
      "[⏱️] Waiting 5.66s to simulate human behavior...\n",
      "[🎭 Impersonation] Using: safari172_ios\n",
      "[⏱️] Waiting 4.63s to simulate human behavior...\n",
      "[🎭 Impersonation] Using: safari172_ios\n",
      "[⏱️] Waiting 9.75s to simulate human behavior...\n",
      "[🎭 Impersonation] Using: safari172_ios\n",
      "[⏱️] Waiting 3.83s to simulate human behavior...\n",
      "[🎭 Impersonation] Using: safari172_ios\n",
      "[⏱️] Waiting 2.54s to simulate human behavior...\n",
      "[🎭 Impersonation] Using: safari172_ios\n",
      "[⏱️] Waiting 2.89s to simulate human behavior...\n",
      "[🎭 Impersonation] Using: safari172_ios\n",
      "[⏱️] Waiting 9.35s to simulate human behavior...\n",
      "[🎭 Impersonation] Using: safari172_ios\n",
      "[⏱️] Waiting 5.82s to simulate human behavior...\n",
      "[🎭 Impersonation] Using: safari172_ios\n",
      "[⏱️] Waiting 3.51s to simulate human behavior...\n",
      "[🎭 Impersonation] Using: safari172_ios\n",
      "[⏱️] Waiting 3.68s to simulate human behavior...\n",
      "[🎭 Impersonation] Using: safari172_ios\n",
      "[⏱️] Waiting 9.03s to simulate human behavior...\n",
      "[🎭 Impersonation] Using: safari172_ios\n",
      "[⏱️] Waiting 7.17s to simulate human behavior...\n",
      "[🎭 Impersonation] Using: safari172_ios\n",
      "[⏱️] Waiting 7.47s to simulate human behavior...\n",
      "[🎭 Impersonation] Using: safari172_ios\n",
      "[⏱️] Waiting 3.00s to simulate human behavior...\n",
      "[🎭 Impersonation] Using: safari172_ios\n",
      "[⏱️] Waiting 5.89s to simulate human behavior...\n",
      "[🎭 Impersonation] Using: safari172_ios\n",
      "[⏱️] Waiting 2.52s to simulate human behavior...\n",
      "[🎭 Impersonation] Using: safari172_ios\n",
      "[⏱️] Waiting 8.71s to simulate human behavior...\n",
      "[🎭 Impersonation] Using: safari172_ios\n",
      "[⏱️] Waiting 7.06s to simulate human behavior...\n",
      "[🎭 Impersonation] Using: safari172_ios\n",
      "[⏱️] Waiting 6.09s to simulate human behavior...\n",
      "[🎭 Impersonation] Using: safari172_ios\n",
      "[⏱️] Waiting 9.85s to simulate human behavior...\n",
      "[🎭 Impersonation] Using: safari172_ios\n",
      "[⏱️] Waiting 3.79s to simulate human behavior...\n",
      "[🎭 Impersonation] Using: safari172_ios\n",
      "[⏱️] Waiting 4.93s to simulate human behavior...\n",
      "[🎭 Impersonation] Using: safari172_ios\n",
      "[⏱️] Waiting 9.52s to simulate human behavior...\n",
      "[🎭 Impersonation] Using: safari172_ios\n",
      "[⏱️] Waiting 6.76s to simulate human behavior...\n",
      "[🎭 Impersonation] Using: safari172_ios\n",
      "[⏱️] Waiting 8.47s to simulate human behavior...\n",
      "[🎭 Impersonation] Using: safari172_ios\n",
      "[⏱️] Waiting 6.61s to simulate human behavior...\n",
      "[🎭 Impersonation] Using: safari172_ios\n",
      "[⏱️] Waiting 9.74s to simulate human behavior...\n",
      "[🎭 Impersonation] Using: safari172_ios\n",
      "[⏱️] Waiting 3.69s to simulate human behavior...\n",
      "[🎭 Impersonation] Using: safari172_ios\n",
      "[⏱️] Waiting 8.66s to simulate human behavior...\n",
      "[🎭 Impersonation] Using: safari172_ios\n",
      "[⏱️] Waiting 5.66s to simulate human behavior...\n",
      "[🎭 Impersonation] Using: safari172_ios\n",
      "[⏱️] Waiting 6.57s to simulate human behavior...\n",
      "[🎭 Impersonation] Using: safari172_ios\n",
      "[⏱️] Waiting 9.62s to simulate human behavior...\n",
      "[🎭 Impersonation] Using: safari172_ios\n",
      "[⏱️] Waiting 3.24s to simulate human behavior...\n",
      "[🎭 Impersonation] Using: safari172_ios\n",
      "[⏱️] Waiting 3.94s to simulate human behavior...\n",
      "[🎭 Impersonation] Using: safari172_ios\n",
      "[⏱️] Waiting 5.97s to simulate human behavior...\n",
      "[🎭 Impersonation] Using: safari172_ios\n",
      "[⏱️] Waiting 7.06s to simulate human behavior...\n",
      "[🎭 Impersonation] Using: safari172_ios\n",
      "[⏱️] Waiting 5.23s to simulate human behavior...\n",
      "[🎭 Impersonation] Using: safari172_ios\n",
      "[⏱️] Waiting 4.85s to simulate human behavior...\n",
      "[🎭 Impersonation] Using: safari172_ios\n",
      "[⏱️] Waiting 8.51s to simulate human behavior...\n",
      "[🎭 Impersonation] Using: safari172_ios\n",
      "[⏱️] Waiting 3.95s to simulate human behavior...\n",
      "[🎭 Impersonation] Using: safari172_ios\n",
      "[⏱️] Waiting 3.32s to simulate human behavior...\n",
      "[🎭 Impersonation] Using: safari172_ios\n",
      "[⏱️] Waiting 3.72s to simulate human behavior...\n",
      "[🎭 Impersonation] Using: safari172_ios\n",
      "[⏱️] Waiting 8.07s to simulate human behavior...\n",
      "[🎭 Impersonation] Using: safari172_ios\n",
      "[⏱️] Waiting 9.91s to simulate human behavior...\n",
      "[🎭 Impersonation] Using: safari172_ios\n",
      "[⏱️] Waiting 3.16s to simulate human behavior...\n",
      "[🎭 Impersonation] Using: safari172_ios\n",
      "[⏱️] Waiting 8.12s to simulate human behavior...\n",
      "[🎭 Impersonation] Using: safari172_ios\n",
      "[⏱️] Waiting 6.96s to simulate human behavior...\n",
      "[🎭 Impersonation] Using: safari172_ios\n",
      "[⏱️] Waiting 4.32s to simulate human behavior...\n",
      "[🎭 Impersonation] Using: safari172_ios\n",
      "[⏱️] Waiting 5.06s to simulate human behavior...\n",
      "[🎭 Impersonation] Using: safari172_ios\n",
      "[⏱️] Waiting 3.37s to simulate human behavior...\n",
      "[🎭 Impersonation] Using: safari172_ios\n",
      "[⏱️] Waiting 7.66s to simulate human behavior...\n"
     ]
    }
   ],
   "source": [
    "# SUPER = \"Biggie\" # [Done at parsing to pydantic model]\n",
    "NOW = datetime.now(ZoneInfo(\"America/Asuncion\"))\n",
    "# FIXED_IMPERSONATE = random.choice(scraper_functions.IMPERSONATE_OPTIONS) [Done at session level]\n",
    "\n",
    "all_items = []\n",
    "NumberResults = 24\n",
    "\n",
    "for category in categories:\n",
    "    skip_value = 0\n",
    "\n",
    "    while True:\n",
    "        url = (\n",
    "            f\"https://api.app.biggie.com.py/api/articles\"\n",
    "            f\"?take={NumberResults}&skip={skip_value}&classificationName={category}\"\n",
    "        )\n",
    "\n",
    "        scraper = ScraperClient(\n",
    "            url=url,\n",
    "            impersonate=FIXED_IMPERSONATE,  # ❗️Fijo durante toda la sesión\n",
    "            random_wait=True                 # ❗️Simula comportamiento humano\n",
    "        )\n",
    "        json_response = scraper.get_json()\n",
    "\n",
    "        items = json_response.get(\"items\", [])\n",
    "\n",
    "        if not items:\n",
    "            break\n",
    "\n",
    "        for item in items:\n",
    "            item[\"category\"] = category\n",
    "            # item[\"supermarket\"] = SUPER\n",
    "            item[\"ingestion_time\"] = NOW\n",
    "\n",
    "        all_items.extend(items)\n",
    "        skip_value += NumberResults\n"
   ]
  },
  {
   "cell_type": "markdown",
   "id": "36888bf7",
   "metadata": {},
   "source": [
    "##### Saving raw json file"
   ]
  },
  {
   "cell_type": "code",
   "execution_count": null,
   "id": "cf8145b0",
   "metadata": {},
   "outputs": [
    {
     "name": "stdout",
     "output_type": "stream",
     "text": [
      "[💾] Archivo guardado en: /workspaces/proyecto-tesis/outputs/biggie/products/biggie_products_2025-07-16_23-48-30.json\n"
     ]
    }
   ],
   "source": [
    "ScraperClient.save_json_raw(\n",
    "    data = all_items,\n",
    "    supermarket=\"biggie\", \n",
    "    subfolder=f'/workspaces/proyecto-tesis/outputs/biggie/products', \n",
    "    name='products'\n",
    ")"
   ]
  },
  {
   "cell_type": "markdown",
   "id": "8ab5cd7b",
   "metadata": {},
   "source": [
    "##### Parse JSON to Model"
   ]
  },
  {
   "cell_type": "code",
   "execution_count": null,
   "id": "f8713302",
   "metadata": {},
   "outputs": [
    {
     "data": {
      "text/plain": [
       "\"\\nwith open('/workspaces/proyecto-tesis/outputs/biggie/products/biggie/biggie_products_2025-06-29_15-21-52.json', 'r') as f:\\n        all_items = json.load(f)\\n\\nall_items\\n\""
      ]
     },
     "execution_count": 45,
     "metadata": {},
     "output_type": "execute_result"
    }
   ],
   "source": [
    "# Manual JSON Load\n",
    "'''\n",
    "with open('/workspaces/proyecto-tesis/outputs/biggie/products/biggie/biggie_products_2025-06-29_15-21-52.json', 'r') as f:\n",
    "        all_items = json.load(f)\n",
    "\n",
    "all_items\n",
    "'''"
   ]
  },
  {
   "cell_type": "code",
   "execution_count": null,
   "id": "e01cff99",
   "metadata": {},
   "outputs": [],
   "source": [
    "if all_items :\n",
    "    products_model = ScraperClient.parse_json_to_model(\n",
    "        json_data = all_items, \n",
    "        model_class = products, \n",
    "        supermarket = 'biggie'\n",
    "    )"
   ]
  },
  {
   "cell_type": "markdown",
   "id": "6ce94db7",
   "metadata": {},
   "source": [
    "##### Model -> Dataframe | Validation"
   ]
  },
  {
   "cell_type": "code",
   "execution_count": null,
   "id": "402f1d6e",
   "metadata": {},
   "outputs": [
    {
     "data": {
      "text/html": [
       "<div>\n",
       "<style scoped>\n",
       "    .dataframe tbody tr th:only-of-type {\n",
       "        vertical-align: middle;\n",
       "    }\n",
       "\n",
       "    .dataframe tbody tr th {\n",
       "        vertical-align: top;\n",
       "    }\n",
       "\n",
       "    .dataframe thead th {\n",
       "        text-align: right;\n",
       "    }\n",
       "</style>\n",
       "<table border=\"1\" class=\"dataframe\">\n",
       "  <thead>\n",
       "    <tr style=\"text-align: right;\">\n",
       "      <th></th>\n",
       "      <th>code</th>\n",
       "      <th>name</th>\n",
       "      <th>price</th>\n",
       "      <th>category</th>\n",
       "      <th>supermarket</th>\n",
       "      <th>ingestion_time</th>\n",
       "    </tr>\n",
       "  </thead>\n",
       "  <tbody>\n",
       "    <tr>\n",
       "      <th>0</th>\n",
       "      <td>60168</td>\n",
       "      <td>Costilla de Primera Biggie Envasado al Vacio x Kg</td>\n",
       "      <td>38950</td>\n",
       "      <td>carniceria</td>\n",
       "      <td>biggie</td>\n",
       "      <td>2025-07-16 23:10:41.005708-03:00</td>\n",
       "    </tr>\n",
       "    <tr>\n",
       "      <th>1</th>\n",
       "      <td>60136</td>\n",
       "      <td>Carne Vacio Biggie x kg.</td>\n",
       "      <td>52450</td>\n",
       "      <td>carniceria</td>\n",
       "      <td>biggie</td>\n",
       "      <td>2025-07-16 23:10:41.005708-03:00</td>\n",
       "    </tr>\n",
       "    <tr>\n",
       "      <th>2</th>\n",
       "      <td>60133</td>\n",
       "      <td>Costilla Especial Biggie envasado al vacio x kg.</td>\n",
       "      <td>40450</td>\n",
       "      <td>carniceria</td>\n",
       "      <td>biggie</td>\n",
       "      <td>2025-07-16 23:10:41.005708-03:00</td>\n",
       "    </tr>\n",
       "    <tr>\n",
       "      <th>3</th>\n",
       "      <td>60140</td>\n",
       "      <td>Carne falda Biggie x kg.</td>\n",
       "      <td>31250</td>\n",
       "      <td>carniceria</td>\n",
       "      <td>biggie</td>\n",
       "      <td>2025-07-16 23:10:41.005708-03:00</td>\n",
       "    </tr>\n",
       "    <tr>\n",
       "      <th>4</th>\n",
       "      <td>60161</td>\n",
       "      <td>Costilla Ancha Biggie envasado al vacio x kg.</td>\n",
       "      <td>41950</td>\n",
       "      <td>carniceria</td>\n",
       "      <td>biggie</td>\n",
       "      <td>2025-07-16 23:10:41.005708-03:00</td>\n",
       "    </tr>\n",
       "  </tbody>\n",
       "</table>\n",
       "</div>"
      ],
      "text/plain": [
       "    code                                               name  price  \\\n",
       "0  60168  Costilla de Primera Biggie Envasado al Vacio x Kg  38950   \n",
       "1  60136                           Carne Vacio Biggie x kg.  52450   \n",
       "2  60133   Costilla Especial Biggie envasado al vacio x kg.  40450   \n",
       "3  60140                           Carne falda Biggie x kg.  31250   \n",
       "4  60161      Costilla Ancha Biggie envasado al vacio x kg.  41950   \n",
       "\n",
       "     category supermarket                   ingestion_time  \n",
       "0  carniceria      biggie 2025-07-16 23:10:41.005708-03:00  \n",
       "1  carniceria      biggie 2025-07-16 23:10:41.005708-03:00  \n",
       "2  carniceria      biggie 2025-07-16 23:10:41.005708-03:00  \n",
       "3  carniceria      biggie 2025-07-16 23:10:41.005708-03:00  \n",
       "4  carniceria      biggie 2025-07-16 23:10:41.005708-03:00  "
      ]
     },
     "execution_count": 47,
     "metadata": {},
     "output_type": "execute_result"
    }
   ],
   "source": [
    "df = pd.DataFrame([c.model_dump() for c in products_model])\n",
    "df.head()"
   ]
  },
  {
   "cell_type": "code",
   "execution_count": null,
   "id": "15c480b4",
   "metadata": {},
   "outputs": [],
   "source": [
    "df.to_csv('/workspaces/proyecto-tesis/outputs/biggie/products/biggie_products_test.csv')"
   ]
  }
 ],
 "metadata": {
  "kernelspec": {
   "display_name": "Python 3",
   "language": "python",
   "name": "python3"
  },
  "language_info": {
   "codemirror_mode": {
    "name": "ipython",
    "version": 3
   },
   "file_extension": ".py",
   "mimetype": "text/x-python",
   "name": "python",
   "nbconvert_exporter": "python",
   "pygments_lexer": "ipython3",
   "version": "3.11.13"
  }
 },
 "nbformat": 4,
 "nbformat_minor": 5
}
