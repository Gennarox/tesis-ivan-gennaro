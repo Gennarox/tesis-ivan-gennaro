{
 "cells": [
  {
   "cell_type": "code",
   "execution_count": 2,
   "id": "a475166e",
   "metadata": {},
   "outputs": [],
   "source": [
    "# tHE BEST libraries\n",
    "import pandas"
   ]
  },
  {
   "cell_type": "code",
   "execution_count": 3,
   "id": "07d24831",
   "metadata": {},
   "outputs": [],
   "source": [
    "test = 1"
   ]
  },
  {
   "cell_type": "markdown",
   "id": "5c27567b",
   "metadata": {},
   "source": [
    "HAHAHA this is a markdown"
   ]
  },
  {
   "cell_type": "code",
   "execution_count": 4,
   "id": "b9eb3afb",
   "metadata": {},
   "outputs": [
    {
     "name": "stdout",
     "output_type": "stream",
     "text": [
      "Hello world\n"
     ]
    }
   ],
   "source": [
    "print(\"Hello world\")"
   ]
  }
 ],
 "metadata": {
  "kernelspec": {
   "display_name": "Python 3",
   "language": "python",
   "name": "python3"
  },
  "language_info": {
   "codemirror_mode": {
    "name": "ipython",
    "version": 3
   },
   "file_extension": ".py",
   "mimetype": "text/x-python",
   "name": "python",
   "nbconvert_exporter": "python",
   "pygments_lexer": "ipython3",
   "version": "3.11.13"
  }
 },
 "nbformat": 4,
 "nbformat_minor": 5
}
